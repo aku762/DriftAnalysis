{
 "cells": [
  {
   "cell_type": "code",
   "execution_count": 1,
   "id": "8db83c11-b3a9-497f-a62f-031b4190d85d",
   "metadata": {},
   "outputs": [],
   "source": [
    "import os\n",
    "from dataset import Dataset\n",
    "from load import load_transcend\n",
    "from analysis import Analysis\n",
    "import visual\n",
    "import numpy as np\n",
    "import pandas as pd"
   ]
  },
  {
   "cell_type": "code",
   "execution_count": 2,
   "id": "3486a3d1-0069-4a41-bc9e-1547c6b68e57",
   "metadata": {},
   "outputs": [],
   "source": [
    "# Set environment variables to limit the number of threads (Useful for problem solving)\n",
    "os.environ[\"OMP_NUM_THREADS\"] = \"16\"  # Limits OpenMP threads\n",
    "os.environ[\"OPENBLAS_NUM_THREADS\"] = \"16\"  # Limits threads for OpenBLAS\n",
    "os.environ[\"MKL_NUM_THREADS\"] = \"16\"  # Limits threads for Intel MKL\n",
    "os.environ[\"NUMEXPR_NUM_THREADS\"] = \"16\"  # Limits NumExpr threads\n",
    "os.environ[\"BLAS_NUM_THREADS\"] = \"16\"  # Limits BLAS threads"
   ]
  },
  {
   "cell_type": "code",
   "execution_count": 3,
   "id": "d7330888-7a4e-49cc-abc9-b559f7082d01",
   "metadata": {},
   "outputs": [
    {
     "name": "stdout",
     "output_type": "stream",
     "text": [
      "Loading Transcend dataset, this can take up to 3 minutes...\n",
      "X loaded\n",
      "y loaded\n",
      "Timestamps loaded\n",
      "Loading family labels\n",
      "Family labels loaded\n",
      "Reducing feature space...\n",
      "Finished loading Transcend dataset\n"
     ]
    }
   ],
   "source": [
    "PATH = \"../Datasets/extended-features/\"\n",
    "X, y, t, f, feature_names, md5 = load_transcend(f\"{PATH}extended-features-X-updated.json\",\n",
    "                                                f\"{PATH}extended-features-y-updated.json\",\n",
    "                                                f\"{PATH}extended-features-meta-updated.json\",\n",
    "                                                f\"{PATH}meta_info_file.tsv\")"
   ]
  },
  {
   "cell_type": "code",
   "execution_count": 4,
   "id": "5c00b051-b90f-470b-8966-ce4fe46d894b",
   "metadata": {
    "editable": true,
    "slideshow": {
     "slide_type": ""
    },
    "tags": []
   },
   "outputs": [],
   "source": [
    "# Put data in to dataset class\n",
    "dataset = Dataset(X, y, t, f, feature_names, md5)\n",
    "\n",
    "# Split dataset and return time aware indexes for training and test\n",
    "train, test = dataset.time_aware_split_index('month', 6, 1)\n",
    "\n",
    "# Run Tsne experiments\n",
    "Analysis(X, y, t, f, feature_names, md5, train, test).tsne(['Dowgin','Dnotua','Kuguo','Airpush','Revmob'])"
   ]
  },
  {
   "cell_type": "code",
   "execution_count": null,
   "id": "56f1f25d-bc9a-43ca-b7c4-b8e29f3ec34c",
   "metadata": {},
   "outputs": [
    {
     "name": "stdout",
     "output_type": "stream",
     "text": [
      "Trained model with initial training set of length 25149\n",
      "Achieved accuracy of 0.976699 and f1 score of 0.903364\n",
      "Tested on group 0 with 25149 training samples and 9024 testing samples\n",
      "Tested on group 1 with 25149 training samples and 4896 testing samples\n",
      "Tested on group 2 with 25149 training samples and 4215 testing samples\n",
      "Tested on group 3 with 25149 training samples and 6493 testing samples\n",
      "Tested on group 4 with 25149 training samples and 1316 testing samples\n",
      "Tested on group 5 with 25149 training samples and 1444 testing samples\n",
      "Tested on group 6 with 25149 training samples and 1556 testing samples\n",
      "Tested on group 7 with 25149 training samples and 1244 testing samples\n",
      "Tested on group 8 with 25149 training samples and 1924 testing samples\n",
      "Tested on group 9 with 25149 training samples and 1822 testing samples\n",
      "Tested on group 10 with 25149 training samples and 1964 testing samples\n",
      "Tested on group 11 with 25149 training samples and 2049 testing samples\n",
      "Tested on group 12 with 25149 training samples and 2520 testing samples\n",
      "Tested on group 13 with 25149 training samples and 2669 testing samples\n",
      "Tested on group 14 with 25149 training samples and 3043 testing samples\n",
      "Tested on group 15 with 25149 training samples and 2894 testing samples\n",
      "Tested on group 16 with 25149 training samples and 2976 testing samples\n",
      "Tested on group 17 with 25149 training samples and 3310 testing samples\n",
      "Tested on group 18 with 25149 training samples and 3379 testing samples\n",
      "Tested on group 19 with 25149 training samples and 4032 testing samples\n",
      "Tested on group 20 with 25149 training samples and 5841 testing samples\n",
      "Tested on group 21 with 25149 training samples and 6374 testing samples\n"
     ]
    }
   ],
   "source": [
    "all_families_airpush_id = Analysis(X, y, t, f, feature_names, md5, train, test).run(\n",
    "                training_family=None, testing_family=None,experiment='base_additional', dataset='Transcend', specific_family='airpush') # All families with airpush"
   ]
  },
  {
   "cell_type": "code",
   "execution_count": 5,
   "id": "4e696852-0db4-42f0-8ed2-e4922191cdf3",
   "metadata": {},
   "outputs": [
    {
     "name": "stdout",
     "output_type": "stream",
     "text": [
      "Trained model with initial training set of length 25143\n",
      "Achieved accuracy of 0.976654 and f1 score of 0.903215\n"
     ]
    },
    {
     "ename": "KeyboardInterrupt",
     "evalue": "",
     "output_type": "error",
     "traceback": [
      "\u001b[0;31m---------------------------------------------------------------------------\u001b[0m",
      "\u001b[0;31mKeyboardInterrupt\u001b[0m                         Traceback (most recent call last)",
      "Cell \u001b[0;32mIn[5], line 2\u001b[0m\n\u001b[1;32m      1\u001b[0m \u001b[38;5;66;03m# Train and test for all families\u001b[39;00m\n\u001b[0;32m----> 2\u001b[0m all_families_id \u001b[38;5;241m=\u001b[39m \u001b[43mAnalysis\u001b[49m\u001b[43m(\u001b[49m\u001b[43mX\u001b[49m\u001b[43m,\u001b[49m\u001b[43m \u001b[49m\u001b[43my\u001b[49m\u001b[43m,\u001b[49m\u001b[43m \u001b[49m\u001b[43mt\u001b[49m\u001b[43m,\u001b[49m\u001b[43m \u001b[49m\u001b[43mf\u001b[49m\u001b[43m,\u001b[49m\u001b[43m \u001b[49m\u001b[43mfeature_names\u001b[49m\u001b[43m,\u001b[49m\u001b[43m \u001b[49m\u001b[43mmd5\u001b[49m\u001b[43m,\u001b[49m\u001b[43m \u001b[49m\u001b[43mtrain\u001b[49m\u001b[43m,\u001b[49m\u001b[43m \u001b[49m\u001b[43mtest\u001b[49m\u001b[43m)\u001b[49m\u001b[38;5;241;43m.\u001b[39;49m\u001b[43mrun\u001b[49m\u001b[43m(\u001b[49m\n\u001b[1;32m      3\u001b[0m \u001b[43m                \u001b[49m\u001b[43mtraining_family\u001b[49m\u001b[38;5;241;43m=\u001b[39;49m\u001b[38;5;28;43;01mNone\u001b[39;49;00m\u001b[43m,\u001b[49m\u001b[43m \u001b[49m\u001b[43mtesting_family\u001b[49m\u001b[38;5;241;43m=\u001b[39;49m\u001b[38;5;28;43;01mNone\u001b[39;49;00m\u001b[43m,\u001b[49m\u001b[43mexperiment\u001b[49m\u001b[38;5;241;43m=\u001b[39;49m\u001b[38;5;124;43m'\u001b[39;49m\u001b[38;5;124;43mbase\u001b[39;49m\u001b[38;5;124;43m'\u001b[39;49m\u001b[43m,\u001b[49m\u001b[43m \u001b[49m\u001b[43mdataset\u001b[49m\u001b[38;5;241;43m=\u001b[39;49m\u001b[38;5;124;43m'\u001b[39;49m\u001b[38;5;124;43mTranscend\u001b[39;49m\u001b[38;5;124;43m'\u001b[39;49m\u001b[43m)\u001b[49m \u001b[38;5;66;03m# All families base\u001b[39;00m\n\u001b[1;32m      4\u001b[0m all_families_dnotua_id \u001b[38;5;241m=\u001b[39m Analysis(X, y, t, f, feature_names, md5, train, test)\u001b[38;5;241m.\u001b[39mrun(\n\u001b[1;32m      5\u001b[0m                 training_family\u001b[38;5;241m=\u001b[39m\u001b[38;5;28;01mNone\u001b[39;00m, testing_family\u001b[38;5;241m=\u001b[39m\u001b[38;5;28;01mNone\u001b[39;00m,experiment\u001b[38;5;241m=\u001b[39m\u001b[38;5;124m'\u001b[39m\u001b[38;5;124mbase_additional\u001b[39m\u001b[38;5;124m'\u001b[39m, dataset\u001b[38;5;241m=\u001b[39m\u001b[38;5;124m'\u001b[39m\u001b[38;5;124mTranscend\u001b[39m\u001b[38;5;124m'\u001b[39m) \u001b[38;5;66;03m# All families with dnotua\u001b[39;00m\n",
      "File \u001b[0;32m/mnt/aiongpfs/users/akarels/DriftAnalysis/analysis.py:600\u001b[0m, in \u001b[0;36mAnalysis.run\u001b[0;34m(self, training_family, testing_family, experiment, dataset)\u001b[0m\n\u001b[1;32m    598\u001b[0m     \u001b[38;5;28mself\u001b[39m\u001b[38;5;241m.\u001b[39mtesting(trained_model, trained_amount, testing_family)\n\u001b[1;32m    599\u001b[0m \u001b[38;5;28;01melse\u001b[39;00m:\n\u001b[0;32m--> 600\u001b[0m     trained_model, trained_amount \u001b[38;5;241m=\u001b[39m \u001b[38;5;28;43mself\u001b[39;49m\u001b[38;5;241;43m.\u001b[39;49m\u001b[43mtraining\u001b[49m\u001b[43m(\u001b[49m\u001b[43mtraining_family\u001b[49m\u001b[43m)\u001b[49m\n\u001b[1;32m    601\u001b[0m     \u001b[38;5;28;01mif\u001b[39;00m experiment\u001b[38;5;241m.\u001b[39mlower() \u001b[38;5;241m==\u001b[39m \u001b[38;5;124m'\u001b[39m\u001b[38;5;124mbase\u001b[39m\u001b[38;5;124m'\u001b[39m:\n\u001b[1;32m    602\u001b[0m         \u001b[38;5;28mself\u001b[39m\u001b[38;5;241m.\u001b[39mtesting(trained_model, trained_amount, testing_family)\n",
      "File \u001b[0;32m/mnt/aiongpfs/users/akarels/DriftAnalysis/analysis.py:272\u001b[0m, in \u001b[0;36mAnalysis.training\u001b[0;34m(self, family, additional_months)\u001b[0m\n\u001b[1;32m    270\u001b[0m explainer \u001b[38;5;241m=\u001b[39m explanations\u001b[38;5;241m.\u001b[39mExplain()\n\u001b[1;32m    271\u001b[0m explainer\u001b[38;5;241m.\u001b[39mset_input_data(model, \u001b[38;5;28mself\u001b[39m\u001b[38;5;241m.\u001b[39mX[selected_indexes], \u001b[38;5;28mself\u001b[39m\u001b[38;5;241m.\u001b[39my[selected_indexes])\n\u001b[0;32m--> 272\u001b[0m explanations_results \u001b[38;5;241m=\u001b[39m \u001b[43mexplainer\u001b[49m\u001b[38;5;241;43m.\u001b[39;49m\u001b[43mIG\u001b[49m\u001b[43m(\u001b[49m\u001b[43m)\u001b[49m\n\u001b[1;32m    274\u001b[0m \u001b[38;5;66;03m# Get total families for each month in training set and update it. Also family labels\u001b[39;00m\n\u001b[1;32m    275\u001b[0m family_labels_array \u001b[38;5;241m=\u001b[39m \u001b[38;5;28mself\u001b[39m\u001b[38;5;241m.\u001b[39mget_family_count_in_training(selected_indexes)\n",
      "File \u001b[0;32m/mnt/aiongpfs/users/akarels/DriftAnalysis/explanations.py:34\u001b[0m, in \u001b[0;36mExplain.IG\u001b[0;34m(self)\u001b[0m\n\u001b[1;32m     32\u001b[0m \u001b[38;5;28;01mfor\u001b[39;00m n \u001b[38;5;129;01min\u001b[39;00m \u001b[38;5;28mrange\u001b[39m(number_of_samples):\n\u001b[1;32m     33\u001b[0m     X \u001b[38;5;241m=\u001b[39m CArray(np\u001b[38;5;241m.\u001b[39marray(\u001b[38;5;28mself\u001b[39m\u001b[38;5;241m.\u001b[39mtest_data_X[n]), tosparse\u001b[38;5;241m=\u001b[39m\u001b[38;5;28;01mFalse\u001b[39;00m)\n\u001b[0;32m---> 34\u001b[0m     attr_c \u001b[38;5;241m=\u001b[39m \u001b[43mCExplainerIntegratedGradients\u001b[49m\u001b[43m(\u001b[49m\u001b[38;5;28;43mself\u001b[39;49m\u001b[38;5;241;43m.\u001b[39;49m\u001b[43mmodel\u001b[49m\u001b[43m)\u001b[49m\u001b[38;5;241;43m.\u001b[39;49m\u001b[43mexplain\u001b[49m\u001b[43m(\u001b[49m\u001b[43mX\u001b[49m\u001b[43m,\u001b[49m\u001b[43m \u001b[49m\u001b[43my\u001b[49m\u001b[38;5;241;43m=\u001b[39;49m\u001b[38;5;28;43mint\u001b[39;49m\u001b[43m(\u001b[49m\u001b[38;5;28;43mself\u001b[39;49m\u001b[38;5;241;43m.\u001b[39;49m\u001b[43mtest_data_y\u001b[49m\u001b[43m[\u001b[49m\u001b[43mn\u001b[49m\u001b[43m]\u001b[49m\u001b[43m)\u001b[49m\u001b[43m,\u001b[49m\u001b[43m \u001b[49m\u001b[43mreference\u001b[49m\u001b[38;5;241;43m=\u001b[39;49m\u001b[43mreference\u001b[49m\u001b[43m)\u001b[49m\n\u001b[1;32m     35\u001b[0m     integrated_grad_matrix[n][:] \u001b[38;5;241m=\u001b[39m attr_c\u001b[38;5;241m.\u001b[39mget_data()\n\u001b[1;32m     37\u001b[0m \u001b[38;5;28;01mreturn\u001b[39;00m integrated_grad_matrix\n",
      "File \u001b[0;32m~/myenv/lib/python3.10/site-packages/secml/explanation/c_explainer_integrated_gradients.py:87\u001b[0m, in \u001b[0;36mCExplainerIntegratedGradients.explain\u001b[0;34m(self, x, y, return_grad, reference, m)\u001b[0m\n\u001b[1;32m     85\u001b[0m riemman_approx \u001b[38;5;241m=\u001b[39m CArray\u001b[38;5;241m.\u001b[39mzeros(x\u001b[38;5;241m.\u001b[39mshape, sparse\u001b[38;5;241m=\u001b[39mx\u001b[38;5;241m.\u001b[39missparse)\n\u001b[1;32m     86\u001b[0m \u001b[38;5;28;01mfor\u001b[39;00m i \u001b[38;5;129;01min\u001b[39;00m \u001b[38;5;28mrange\u001b[39m(\u001b[38;5;28mlen\u001b[39m(ret)):\n\u001b[0;32m---> 87\u001b[0m     riemman_approx \u001b[38;5;241m+\u001b[39m\u001b[38;5;241m=\u001b[39m \u001b[38;5;28;43mself\u001b[39;49m\u001b[38;5;241;43m.\u001b[39;49m\u001b[43mclf\u001b[49m\u001b[38;5;241;43m.\u001b[39;49m\u001b[43mgrad_f_x\u001b[49m\u001b[43m(\u001b[49m\u001b[43mret\u001b[49m\u001b[43m[\u001b[49m\u001b[43mi\u001b[49m\u001b[43m]\u001b[49m\u001b[43m,\u001b[49m\u001b[43m \u001b[49m\u001b[43my\u001b[49m\u001b[38;5;241;43m=\u001b[39;49m\u001b[43my\u001b[49m\u001b[43m)\u001b[49m\n\u001b[1;32m     89\u001b[0m a \u001b[38;5;241m=\u001b[39m (x \u001b[38;5;241m-\u001b[39m reference) \u001b[38;5;241m*\u001b[39m (\u001b[38;5;241m1\u001b[39m \u001b[38;5;241m/\u001b[39m m) \u001b[38;5;241m*\u001b[39m riemman_approx\n\u001b[1;32m     91\u001b[0m \u001b[38;5;28mself\u001b[39m\u001b[38;5;241m.\u001b[39mlogger\u001b[38;5;241m.\u001b[39mdebug(\n\u001b[1;32m     92\u001b[0m     \u001b[38;5;124m\"\u001b[39m\u001b[38;5;124mAttributions for class \u001b[39m\u001b[38;5;132;01m{:}\u001b[39;00m\u001b[38;5;124m:\u001b[39m\u001b[38;5;130;01m\\n\u001b[39;00m\u001b[38;5;132;01m{:}\u001b[39;00m\u001b[38;5;124m\"\u001b[39m\u001b[38;5;241m.\u001b[39mformat(y, a))\n",
      "File \u001b[0;32m~/myenv/lib/python3.10/site-packages/secml/ml/classifiers/c_classifier.py:264\u001b[0m, in \u001b[0;36mCClassifier.grad_f_x\u001b[0;34m(self, x, y)\u001b[0m\n\u001b[1;32m    262\u001b[0m w \u001b[38;5;241m=\u001b[39m CArray\u001b[38;5;241m.\u001b[39mzeros(\u001b[38;5;28mself\u001b[39m\u001b[38;5;241m.\u001b[39mn_classes)\n\u001b[1;32m    263\u001b[0m w[y] \u001b[38;5;241m=\u001b[39m \u001b[38;5;241m1\u001b[39m  \u001b[38;5;66;03m# one-hot encoding of y\u001b[39;00m\n\u001b[0;32m--> 264\u001b[0m \u001b[38;5;28;01mreturn\u001b[39;00m \u001b[38;5;28;43mself\u001b[39;49m\u001b[38;5;241;43m.\u001b[39;49m\u001b[43mgradient\u001b[49m\u001b[43m(\u001b[49m\u001b[43mx\u001b[49m\u001b[43m,\u001b[49m\u001b[43m \u001b[49m\u001b[43mw\u001b[49m\u001b[43m)\u001b[49m\n",
      "File \u001b[0;32m~/myenv/lib/python3.10/site-packages/secml/ml/c_module.py:336\u001b[0m, in \u001b[0;36mCModule.gradient\u001b[0;34m(self, x, w)\u001b[0m\n\u001b[1;32m    334\u001b[0m \u001b[38;5;28;01mif\u001b[39;00m \u001b[38;5;28mself\u001b[39m\u001b[38;5;241m.\u001b[39m_grad_requires_forward:\n\u001b[1;32m    335\u001b[0m     \u001b[38;5;28mself\u001b[39m\u001b[38;5;241m.\u001b[39m_forward(x_prc)  \u001b[38;5;66;03m# this is called only if required\u001b[39;00m\n\u001b[0;32m--> 336\u001b[0m \u001b[38;5;28;01mreturn\u001b[39;00m \u001b[38;5;28;43mself\u001b[39;49m\u001b[38;5;241;43m.\u001b[39;49m\u001b[43mbackward\u001b[49m\u001b[43m(\u001b[49m\u001b[43mw\u001b[49m\u001b[43m)\u001b[49m\n",
      "File \u001b[0;32m~/myenv/lib/python3.10/site-packages/secml/ml/c_module.py:242\u001b[0m, in \u001b[0;36mCModule.backward\u001b[0;34m(self, w)\u001b[0m\n\u001b[1;32m    239\u001b[0m \u001b[38;5;28;01mif\u001b[39;00m \u001b[38;5;28mself\u001b[39m\u001b[38;5;241m.\u001b[39m_cached_x \u001b[38;5;129;01mis\u001b[39;00m \u001b[38;5;28;01mNone\u001b[39;00m:\n\u001b[1;32m    240\u001b[0m     \u001b[38;5;28;01mraise\u001b[39;00m \u001b[38;5;167;01mValueError\u001b[39;00m(\u001b[38;5;124m\"\u001b[39m\u001b[38;5;124mPlease run forward with caching=True first.\u001b[39m\u001b[38;5;124m\"\u001b[39m)\n\u001b[0;32m--> 242\u001b[0m grad \u001b[38;5;241m=\u001b[39m \u001b[38;5;28;43mself\u001b[39;49m\u001b[38;5;241;43m.\u001b[39;49m\u001b[43m_backward\u001b[49m\u001b[43m(\u001b[49m\u001b[43mw\u001b[49m\u001b[38;5;241;43m=\u001b[39;49m\u001b[43mw\u001b[49m\u001b[43m)\u001b[49m\n\u001b[1;32m    244\u001b[0m \u001b[38;5;28;01mif\u001b[39;00m \u001b[38;5;28mself\u001b[39m\u001b[38;5;241m.\u001b[39mpreprocess \u001b[38;5;129;01mis\u001b[39;00m \u001b[38;5;129;01mnot\u001b[39;00m \u001b[38;5;28;01mNone\u001b[39;00m:  \u001b[38;5;66;03m# accumulate gradients\u001b[39;00m\n\u001b[1;32m    245\u001b[0m     grad \u001b[38;5;241m=\u001b[39m \u001b[38;5;28mself\u001b[39m\u001b[38;5;241m.\u001b[39mpreprocess\u001b[38;5;241m.\u001b[39mbackward(w\u001b[38;5;241m=\u001b[39mgrad)\n",
      "File \u001b[0;32m~/myenv/lib/python3.10/site-packages/secml/ml/classifiers/sklearn/c_classifier_svm.py:315\u001b[0m, in \u001b[0;36mCClassifierSVM._backward\u001b[0;34m(self, w)\u001b[0m\n\u001b[1;32m    313\u001b[0m     \u001b[38;5;28;01mreturn\u001b[39;00m w\u001b[38;5;241m.\u001b[39mdot(v)\n\u001b[1;32m    314\u001b[0m \u001b[38;5;28;01melse\u001b[39;00m:\n\u001b[0;32m--> 315\u001b[0m     \u001b[38;5;28;01mreturn\u001b[39;00m \u001b[43mw\u001b[49m\u001b[43m[\u001b[49m\u001b[38;5;241;43m0\u001b[39;49m\u001b[43m]\u001b[49m\u001b[43m \u001b[49m\u001b[38;5;241;43m*\u001b[39;49m\u001b[43m \u001b[49m\u001b[38;5;241;43m-\u001b[39;49m\u001b[43mv\u001b[49m\u001b[43m \u001b[49m\u001b[38;5;241;43m+\u001b[39;49m\u001b[43m \u001b[49m\u001b[43mw\u001b[49m\u001b[43m[\u001b[49m\u001b[38;5;241;43m1\u001b[39;49m\u001b[43m]\u001b[49m\u001b[43m \u001b[49m\u001b[38;5;241;43m*\u001b[39;49m\u001b[43m \u001b[49m\u001b[43mv\u001b[49m\n",
      "File \u001b[0;32m~/myenv/lib/python3.10/site-packages/secml/array/c_array.py:1051\u001b[0m, in \u001b[0;36mCArray.__add__\u001b[0;34m(self, other)\u001b[0m\n\u001b[1;32m   1049\u001b[0m     \u001b[38;5;28;01mif\u001b[39;00m \u001b[38;5;28mself\u001b[39m\u001b[38;5;241m.\u001b[39misdense \u001b[38;5;129;01mis\u001b[39;00m \u001b[38;5;28;01mTrue\u001b[39;00m \u001b[38;5;129;01mand\u001b[39;00m other\u001b[38;5;241m.\u001b[39missparse \u001b[38;5;129;01mis\u001b[39;00m \u001b[38;5;28;01mTrue\u001b[39;00m:\n\u001b[1;32m   1050\u001b[0m         other \u001b[38;5;241m=\u001b[39m other\u001b[38;5;241m.\u001b[39mtodense()\n\u001b[0;32m-> 1051\u001b[0m     \u001b[38;5;28;01mreturn\u001b[39;00m \u001b[38;5;28mself\u001b[39m\u001b[38;5;241m.\u001b[39m\u001b[38;5;18m__class__\u001b[39m(\u001b[38;5;28;43mself\u001b[39;49m\u001b[38;5;241;43m.\u001b[39;49m\u001b[43m_data\u001b[49m\u001b[38;5;241;43m.\u001b[39;49m\u001b[38;5;21;43m__add__\u001b[39;49m\u001b[43m(\u001b[49m\u001b[43mother\u001b[49m\u001b[38;5;241;43m.\u001b[39;49m\u001b[43m_data\u001b[49m\u001b[43m)\u001b[49m)\n\u001b[1;32m   1052\u001b[0m \u001b[38;5;28;01melif\u001b[39;00m is_ndarray(other) \u001b[38;5;129;01mor\u001b[39;00m is_scsarray(other):\n\u001b[1;32m   1053\u001b[0m     \u001b[38;5;28;01mraise\u001b[39;00m \u001b[38;5;167;01mTypeError\u001b[39;00m(\u001b[38;5;124m\"\u001b[39m\u001b[38;5;124munsupported operand type(s) for +: \u001b[39m\u001b[38;5;124m\"\u001b[39m\n\u001b[1;32m   1054\u001b[0m                     \u001b[38;5;124m\"\u001b[39m\u001b[38;5;124m'\u001b[39m\u001b[38;5;132;01m{:}\u001b[39;00m\u001b[38;5;124m'\u001b[39m\u001b[38;5;124m and \u001b[39m\u001b[38;5;124m'\u001b[39m\u001b[38;5;132;01m{:}\u001b[39;00m\u001b[38;5;124m'\u001b[39m\u001b[38;5;124m\"\u001b[39m\u001b[38;5;241m.\u001b[39mformat(\u001b[38;5;28mtype\u001b[39m(\u001b[38;5;28mself\u001b[39m)\u001b[38;5;241m.\u001b[39m\u001b[38;5;18m__name__\u001b[39m,\n\u001b[1;32m   1055\u001b[0m                                              \u001b[38;5;28mtype\u001b[39m(other)\u001b[38;5;241m.\u001b[39m\u001b[38;5;18m__name__\u001b[39m))\n",
      "File \u001b[0;32m~/myenv/lib/python3.10/site-packages/secml/array/c_dense.py:562\u001b[0m, in \u001b[0;36mCDense.__add__\u001b[0;34m(self, other)\u001b[0m\n\u001b[1;32m    546\u001b[0m \u001b[38;5;250m\u001b[39m\u001b[38;5;124;03m\"\"\"Element-wise addition.\u001b[39;00m\n\u001b[1;32m    547\u001b[0m \n\u001b[1;32m    548\u001b[0m \u001b[38;5;124;03mParameters\u001b[39;00m\n\u001b[0;32m   (...)\u001b[0m\n\u001b[1;32m    559\u001b[0m \n\u001b[1;32m    560\u001b[0m \u001b[38;5;124;03m\"\"\"\u001b[39;00m\n\u001b[1;32m    561\u001b[0m \u001b[38;5;28;01mif\u001b[39;00m is_scalar(other) \u001b[38;5;129;01mor\u001b[39;00m is_bool(other) \u001b[38;5;129;01mor\u001b[39;00m \u001b[38;5;28misinstance\u001b[39m(other, CDense):\n\u001b[0;32m--> 562\u001b[0m     \u001b[38;5;28;01mreturn\u001b[39;00m \u001b[38;5;28;43mself\u001b[39;49m\u001b[38;5;241;43m.\u001b[39;49m\u001b[38;5;18;43m__class__\u001b[39;49m\u001b[43m(\u001b[49m\n\u001b[1;32m    563\u001b[0m \u001b[43m        \u001b[49m\u001b[43mnp\u001b[49m\u001b[38;5;241;43m.\u001b[39;49m\u001b[43madd\u001b[49m\u001b[43m(\u001b[49m\u001b[38;5;28;43mself\u001b[39;49m\u001b[38;5;241;43m.\u001b[39;49m\u001b[43mtondarray\u001b[49m\u001b[43m(\u001b[49m\u001b[43m)\u001b[49m\u001b[43m,\u001b[49m\u001b[43m \u001b[49m\u001b[38;5;28;43mself\u001b[39;49m\u001b[38;5;241;43m.\u001b[39;49m\u001b[43m_buffer_to_builtin\u001b[49m\u001b[43m(\u001b[49m\u001b[43mother\u001b[49m\u001b[43m)\u001b[49m\u001b[43m)\u001b[49m\u001b[43m)\u001b[49m\n\u001b[1;32m    564\u001b[0m \u001b[38;5;28;01melse\u001b[39;00m:\n\u001b[1;32m    565\u001b[0m     \u001b[38;5;28;01mreturn\u001b[39;00m \u001b[38;5;28mNotImplemented\u001b[39m\n",
      "File \u001b[0;32m~/myenv/lib/python3.10/site-packages/secml/array/c_dense.py:27\u001b[0m, in \u001b[0;36mCDense.__init__\u001b[0;34m(self, data, dtype, copy, shape)\u001b[0m\n\u001b[1;32m     24\u001b[0m \u001b[38;5;250m\u001b[39m\u001b[38;5;124;03m\"\"\"Dense array. Encapsulation for np.ndarray.\"\"\"\u001b[39;00m\n\u001b[1;32m     25\u001b[0m \u001b[38;5;18m__slots__\u001b[39m \u001b[38;5;241m=\u001b[39m \u001b[38;5;124m'\u001b[39m\u001b[38;5;124m_data\u001b[39m\u001b[38;5;124m'\u001b[39m  \u001b[38;5;66;03m# CDense has only one slot for the ndarray\u001b[39;00m\n\u001b[0;32m---> 27\u001b[0m \u001b[38;5;28;01mdef\u001b[39;00m \u001b[38;5;21m__init__\u001b[39m(\u001b[38;5;28mself\u001b[39m, data\u001b[38;5;241m=\u001b[39m\u001b[38;5;28;01mNone\u001b[39;00m, dtype\u001b[38;5;241m=\u001b[39m\u001b[38;5;28;01mNone\u001b[39;00m, copy\u001b[38;5;241m=\u001b[39m\u001b[38;5;28;01mFalse\u001b[39;00m, shape\u001b[38;5;241m=\u001b[39m\u001b[38;5;28;01mNone\u001b[39;00m):\n\u001b[1;32m     28\u001b[0m     \u001b[38;5;66;03m# Not implemented operators return NotImplemented\u001b[39;00m\n\u001b[1;32m     29\u001b[0m     \u001b[38;5;28;01mif\u001b[39;00m data \u001b[38;5;129;01mis\u001b[39;00m \u001b[38;5;28mNotImplemented\u001b[39m:\n\u001b[1;32m     30\u001b[0m         \u001b[38;5;28;01mraise\u001b[39;00m \u001b[38;5;167;01mTypeError\u001b[39;00m(\u001b[38;5;124m\"\u001b[39m\u001b[38;5;124moperator not implemented\u001b[39m\u001b[38;5;124m\"\u001b[39m)\n",
      "\u001b[0;31mKeyboardInterrupt\u001b[0m: "
     ]
    }
   ],
   "source": [
    "# Train and test for all families\n",
    "all_families_id = Analysis(X, y, t, f, feature_names, md5, train, test).run(\n",
    "                training_family=None, testing_family=None,experiment='base', dataset='Transcend') # All families base\n",
    "all_families_dnotua_id = Analysis(X, y, t, f, feature_names, md5, train, test).run(\n",
    "                training_family=None, testing_family=None,experiment='base_additional', dataset='Transcend') # All families with dnotua"
   ]
  },
  {
   "cell_type": "code",
   "execution_count": null,
   "id": "ba3be02f-7e44-44a2-85e3-096b9cbb2110",
   "metadata": {},
   "outputs": [],
   "source": []
  },
  {
   "cell_type": "code",
   "execution_count": null,
   "id": "ecf401ba-04a3-4722-8747-79c130de86a2",
   "metadata": {},
   "outputs": [],
   "source": [
    "# Select families\n",
    "training_family = ['Dowgin','Dnotua','Kuguo','Airpush','Revmob']\n",
    "testing_family = ['Dowgin','Dnotua','Kuguo','Airpush','Revmob']\n",
    "\n",
    "# Run analysis\n",
    "cbase_id = Analysis(X, y, t, f, feature_names, md5, train, test).run(\n",
    "                training_family=training_family, testing_family=testing_family,experiment='half_random', dataset='Transcend') # C base experiment\n",
    "c1_id = Analysis(X, y, t, f, feature_names, md5, train, test).run(\n",
    "                training_family=training_family, testing_family=testing_family,experiment='snoop_random', dataset='Transcend') # C 1 experiment\n",
    "c2_id = Analysis(X, y, t, f, feature_names, md5, train, test).run(\n",
    "                training_family=training_family, testing_family=testing_family,experiment='nogwsnoop_random', dataset='Transcend') # C 2 experiment"
   ]
  },
  {
   "cell_type": "code",
   "execution_count": null,
   "id": "da654433-c2eb-43a0-afdc-daa2296d8370",
   "metadata": {},
   "outputs": [],
   "source": [
    "# Loops for solo training\n",
    "loop_id = []\n",
    "for train_fam in training_family:\n",
    "    if train_fam == 'Dnotua':\n",
    "        experiment_t = 'base_additional'\n",
    "    elif train_fam == 'Airpush':\n",
    "         experiment_t = 'base_additional'   \n",
    "    else:\n",
    "        experiment_t = 'base'\n",
    "    id = Analysis(X, y, t, f, feature_names, md5, train, test).run(\n",
    "                training_family=[train_fam], testing_family=testing_family,experiment=experiment_t, dataset='Transcend') # Solo family experiments\n",
    "    loop_id.append(id)"
   ]
  },
  {
   "cell_type": "code",
   "execution_count": null,
   "id": "e7b04a45-62d9-4bd1-a988-9cf6db271009",
   "metadata": {},
   "outputs": [],
   "source": [
    "# Write IDs in file for future reference\n",
    "with open(\"results/results_files_id\",'w') as f:\n",
    "    f.writelines(f\"all_families_id: {all_families_id}\")\n",
    "    f.writelines(f\"all_families_dnotua_id: {all_families_dnotua_id}\")\n",
    "    f.writelines(f\"cbase_id: {cbase_id}\")\n",
    "    f.writelines(f\"c1_id: {c1_id}\")\n",
    "    f.writelines(f\"c2_id: {c2_id}\")\n",
    "    f.writelines(f\"dowgin_solo_id: {loop_id[0]}\")\n",
    "    f.writelines(f\"dnotua_solo_id: {loop_id[1]}\")\n",
    "    f.writelines(f\"kuguo_solo_id: {loop_id[2]}\")\n",
    "    f.writelines(f\"airpush_solo_id: {loop_id[3]}\")\n",
    "    f.writelines(f\"revmob_solo_id: {loop_id[4]}\")"
   ]
  },
  {
   "cell_type": "code",
   "execution_count": null,
   "id": "f1e3fab2-1b94-4ac8-8099-a35744beb8fe",
   "metadata": {},
   "outputs": [],
   "source": [
    "# Load in files\n",
    "all_families = visual.ResultsLoader().load_file_from_id(all_families_id)\n",
    "all_families_dnotua = visual.ResultsLoader().load_file_from_id(all_families_dnotua_id)\n",
    "cbase = visual.ResultsLoader().load_file_from_id(cbase_id)\n",
    "c1 = visual.ResultsLoader().load_file_from_id(c1_id)\n",
    "c2 = visual.ResultsLoader().load_file_from_id(c2_id)\n",
    "dowgin_solo = visual.ResultsLoader().load_file_from_id(loop_id[0])\n",
    "dnotua_solo = visual.ResultsLoader().load_file_from_id(loop_id[1])\n",
    "kuguo_solo = visual.ResultsLoader().load_file_from_id(loop_id[2])\n",
    "airpush_solo = visual.ResultsLoader().load_file_from_id(loop_id[3])\n",
    "revmob_solo = visual.ResultsLoader().load_file_from_id(loop_id[4])"
   ]
  },
  {
   "cell_type": "code",
   "execution_count": null,
   "id": "5e72fa29-b1ec-42d1-8b99-9d6d309bcaf6",
   "metadata": {},
   "outputs": [],
   "source": [
    "# Plot files and save in output folder\n",
    "visual.Viz(all_families).plot_single('performance', fname='transcend_all.pdf') # Fig 2a\n",
    "visual.Viz(all_families).plot_single('distribution', fname='transcend_distribution_all.pdf') # Fig 2b\n",
    "visual.Viz(c2, c1, label1='(C1)', label2='(C2)').plot_performance_distribution(fname='goodware_snoop_performance.pdf') # Fig 3\n",
    "visual.VizExpl(cbase,c1).mean_of_weights_of_top_feature_of_missed_family_samples(['DNOTUA'], missed=True) # Table 1\n",
    "visual.VizExpl(cbase,c1).mean_of_weights_of_top_feature_of_missed_family_samples(['AIRPUSH'], missed=True) # Table 3\n",
    "visual.Viz(c2, c1, label1='(C2)', label2='(C1)').plot_single('difference', month_selection=[23, 31, 47], fname='goodware_snoop_diff_crop.pdf') # Figure 4a\n",
    "visual.Viz(cbase, c1, label1='(Cbase)', label2='(C1)').plot_single('difference', month_selection=[25, 31, 52], fname='malware_snoop_diff_crop.pdf') # Figure 4b\n",
    "visual.Viz(cbase, c1, label1='(Cbase)', label2='(C1)').plot_performance_distribution(fname='malware_snoop_performance.pdf') # Figure 5\n",
    "visual.Viz(all_families_dnotua).plot_single('performance', fname='transcend_all_dnotua.pdf') # Figure 6\n",
    "visual.FamilyIso(dowgin_solo,dnotua_solo,kuguo_solo,airpush_solo,revmob_solo).plot_family_iso_matrix(fname='solo_performance_grid.pdf')# Figure 7 & Table 4\n",
    "visual.DimensionReduction().tsne_visual(['DOWGIN','DNOTUA','KUGUO','AIRPUSH','REVMOB'], fname='tsne_malware_overtime.pdf')\n",
    "visual.VizExpl(c1).top_features_of_given_family([1,52,31,25,47,33,27,36,22,17,53,44,37],['DNOTUA']) # Table 5\n",
    "visual.VizExpl(c1).top_features_of_given_family([1,52,31,25,47,33,27,36,22,17,53,44,37],['KUGUO']) # Table 6"
   ]
  },
  {
   "cell_type": "code",
   "execution_count": null,
   "id": "38174bdc-7e97-4807-8244-372b803794be",
   "metadata": {},
   "outputs": [],
   "source": []
  }
 ],
 "metadata": {
  "kernelspec": {
   "display_name": "Python (myenv)",
   "language": "python",
   "name": "myenv"
  },
  "language_info": {
   "codemirror_mode": {
    "name": "ipython",
    "version": 3
   },
   "file_extension": ".py",
   "mimetype": "text/x-python",
   "name": "python",
   "nbconvert_exporter": "python",
   "pygments_lexer": "ipython3",
   "version": "3.10.9"
  }
 },
 "nbformat": 4,
 "nbformat_minor": 5
}
