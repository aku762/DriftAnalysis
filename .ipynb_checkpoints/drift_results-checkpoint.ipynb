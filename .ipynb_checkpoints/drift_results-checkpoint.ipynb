{
 "cells": [
  {
   "cell_type": "code",
   "execution_count": 1,
   "id": "8db83c11-b3a9-497f-a62f-031b4190d85d",
   "metadata": {},
   "outputs": [],
   "source": [
    "import os\n",
    "from dataset import Dataset\n",
    "from load import load_transcend\n",
    "from analysis import Analysis\n",
    "import visual\n",
    "import numpy as np\n",
    "import pandas as pd"
   ]
  },
  {
   "cell_type": "code",
   "execution_count": 2,
   "id": "d7330888-7a4e-49cc-abc9-b559f7082d01",
   "metadata": {},
   "outputs": [
    {
     "name": "stdout",
     "output_type": "stream",
     "text": [
      "Loading Transcend dataset, this can take up to 3 minutes...\n",
      "X loaded\n",
      "y loaded\n",
      "Timestamps loaded\n",
      "Loading family labels\n",
      "Family labels loaded\n",
      "Reducing feature space...\n",
      "Finished loading Transcend dataset\n"
     ]
    }
   ],
   "source": [
    "PATH = \"../Datasets/extended-features/\"\n",
    "X, y, t, f, feature_names, md5 = load_transcend(f\"{PATH}extended-features-X-updated.json\",\n",
    "                                                f\"{PATH}extended-features-y-updated.json\",\n",
    "                                                f\"{PATH}extended-features-meta-updated.json\",\n",
    "                                                f\"{PATH}meta_info_file.tsv\")"
   ]
  },
  {
   "cell_type": "code",
   "execution_count": 4,
   "id": "3486a3d1-0069-4a41-bc9e-1547c6b68e57",
   "metadata": {},
   "outputs": [],
   "source": [
    "# Set environment variables to limit the number of threads (Useful for problem solving)\n",
    "os.environ[\"OMP_NUM_THREADS\"] = \"1\"  # Limits OpenMP threads\n",
    "os.environ[\"OPENBLAS_NUM_THREADS\"] = \"1\"  # Limits threads for OpenBLAS\n",
    "os.environ[\"MKL_NUM_THREADS\"] = \"1\"  # Limits threads for Intel MKL\n",
    "os.environ[\"NUMEXPR_NUM_THREADS\"] = \"1\"  # Limits NumExpr threads\n",
    "os.environ[\"BLAS_NUM_THREADS\"] = \"1\"  # Limits BLAS threads"
   ]
  },
  {
   "cell_type": "code",
   "execution_count": 3,
   "id": "5c00b051-b90f-470b-8966-ce4fe46d894b",
   "metadata": {
    "editable": true,
    "slideshow": {
     "slide_type": ""
    },
    "tags": []
   },
   "outputs": [],
   "source": [
    "# Put data in to dataset class\n",
    "dataset = Dataset(X, y, t, f, feature_names, md5)\n",
    "\n",
    "# Split dataset and return time aware indexes for training and test\n",
    "train, test = dataset.time_aware_split_index('month', 6, 1)\n",
    "\n",
    "# Run Tsne experiments\n",
    "Analysis(X, y, t, f, feature_names, md5, train, test).tsne(['Dowgin','Dnotua','Kuguo','Airpush','Revmob'])"
   ]
  },
  {
   "cell_type": "code",
   "execution_count": null,
   "id": "4e696852-0db4-42f0-8ed2-e4922191cdf3",
   "metadata": {},
   "outputs": [
    {
     "name": "stdout",
     "output_type": "stream",
     "text": [
      "Trained model with initial training set of length 25143\n",
      "Achieved accuracy of 0.976654 and f1 score of 0.903215\n",
      "Tested on group 0 with 25143 training samples and 9024 testing samples\n",
      "Tested on group 1 with 25143 training samples and 4896 testing samples\n",
      "Tested on group 2 with 25143 training samples and 4215 testing samples\n",
      "Tested on group 3 with 25143 training samples and 6493 testing samples\n",
      "Tested on group 4 with 25143 training samples and 1316 testing samples\n",
      "Tested on group 5 with 25143 training samples and 1444 testing samples\n",
      "Tested on group 6 with 25143 training samples and 1556 testing samples\n",
      "Tested on group 7 with 25143 training samples and 1244 testing samples\n",
      "Tested on group 8 with 25143 training samples and 1924 testing samples\n",
      "Tested on group 9 with 25143 training samples and 1822 testing samples\n",
      "Tested on group 10 with 25143 training samples and 1964 testing samples\n",
      "Tested on group 11 with 25143 training samples and 2049 testing samples\n",
      "Tested on group 12 with 25143 training samples and 2520 testing samples\n",
      "Tested on group 13 with 25143 training samples and 2669 testing samples\n",
      "Tested on group 14 with 25143 training samples and 3043 testing samples\n",
      "Tested on group 15 with 25143 training samples and 2894 testing samples\n",
      "Tested on group 16 with 25143 training samples and 2976 testing samples\n",
      "Tested on group 17 with 25143 training samples and 3310 testing samples\n",
      "Tested on group 18 with 25143 training samples and 3379 testing samples\n",
      "Tested on group 19 with 25143 training samples and 4032 testing samples\n",
      "Tested on group 20 with 25143 training samples and 5841 testing samples\n",
      "Tested on group 21 with 25143 training samples and 6374 testing samples\n",
      "Tested on group 22 with 25143 training samples and 4126 testing samples\n",
      "Tested on group 23 with 25143 training samples and 2784 testing samples\n",
      "Tested on group 24 with 25143 training samples and 3040 testing samples\n",
      "Tested on group 25 with 25143 training samples and 4775 testing samples\n",
      "Tested on group 26 with 25143 training samples and 1318 testing samples\n",
      "Tested on group 27 with 25143 training samples and 738 testing samples\n",
      "Tested on group 28 with 25143 training samples and 194 testing samples\n",
      "Tested on group 29 with 25143 training samples and 69 testing samples\n",
      "Tested on group 30 with 25143 training samples and 5014 testing samples\n",
      "Tested on group 31 with 25143 training samples and 5064 testing samples\n",
      "Tested on group 32 with 25143 training samples and 5046 testing samples\n",
      "Tested on group 33 with 25143 training samples and 4933 testing samples\n",
      "Tested on group 34 with 25143 training samples and 4840 testing samples\n",
      "Tested on group 35 with 25143 training samples and 4772 testing samples\n",
      "Tested on group 36 with 25143 training samples and 4756 testing samples\n",
      "Tested on group 37 with 25143 training samples and 4781 testing samples\n",
      "Tested on group 38 with 25143 training samples and 4753 testing samples\n",
      "Tested on group 39 with 25143 training samples and 4742 testing samples\n",
      "Tested on group 40 with 25143 training samples and 4768 testing samples\n",
      "Tested on group 41 with 25143 training samples and 4753 testing samples\n",
      "Tested on group 42 with 25143 training samples and 4693 testing samples\n",
      "Tested on group 43 with 25143 training samples and 4707 testing samples\n",
      "Tested on group 44 with 25143 training samples and 4820 testing samples\n",
      "Tested on group 45 with 25143 training samples and 4741 testing samples\n",
      "Tested on group 46 with 25143 training samples and 4819 testing samples\n",
      "Tested on group 47 with 25143 training samples and 4691 testing samples\n",
      "Tested on group 48 with 25143 training samples and 4500 testing samples\n",
      "Tested on group 49 with 25143 training samples and 4510 testing samples\n",
      "Tested on group 50 with 25143 training samples and 4390 testing samples\n",
      "Tested on group 51 with 25143 training samples and 4400 testing samples\n",
      "Tested on group 52 with 25143 training samples and 4034 testing samples\n",
      "Tested on group 53 with 25143 training samples and 728 testing samples\n",
      "Saved result with ID 1\n",
      "Done\n",
      "Trained model with initial training set of length 26261\n",
      "Achieved accuracy of 0.978295 and f1 score of 0.920701\n",
      "Tested on group 0 with 26261 training samples and 9024 testing samples\n",
      "Tested on group 1 with 26261 training samples and 4896 testing samples\n",
      "Tested on group 2 with 26261 training samples and 4215 testing samples\n",
      "Tested on group 3 with 26261 training samples and 6493 testing samples\n",
      "Tested on group 4 with 26261 training samples and 1316 testing samples\n",
      "Tested on group 5 with 26261 training samples and 1444 testing samples\n",
      "Tested on group 6 with 26261 training samples and 1556 testing samples\n",
      "Tested on group 7 with 26261 training samples and 1244 testing samples\n",
      "Tested on group 8 with 26261 training samples and 1924 testing samples\n",
      "Tested on group 9 with 26261 training samples and 1822 testing samples\n",
      "Tested on group 10 with 26261 training samples and 1964 testing samples\n",
      "Tested on group 11 with 26261 training samples and 2049 testing samples\n",
      "Tested on group 12 with 26261 training samples and 2520 testing samples\n",
      "Tested on group 13 with 26261 training samples and 2669 testing samples\n",
      "Tested on group 14 with 26261 training samples and 3043 testing samples\n",
      "Tested on group 15 with 26261 training samples and 2894 testing samples\n",
      "Tested on group 16 with 26261 training samples and 2976 testing samples\n",
      "Tested on group 17 with 26261 training samples and 3310 testing samples\n",
      "Tested on group 18 with 26261 training samples and 3379 testing samples\n",
      "Tested on group 19 with 26261 training samples and 4032 testing samples\n",
      "Tested on group 20 with 26261 training samples and 5841 testing samples\n",
      "Tested on group 21 with 26261 training samples and 6374 testing samples\n",
      "Tested on group 22 with 26261 training samples and 4126 testing samples\n",
      "Tested on group 23 with 26261 training samples and 2784 testing samples\n",
      "Tested on group 24 with 26261 training samples and 3040 testing samples\n",
      "Tested on group 25 with 26261 training samples and 4775 testing samples\n",
      "Tested on group 26 with 26261 training samples and 1318 testing samples\n",
      "Tested on group 27 with 26261 training samples and 738 testing samples\n",
      "Tested on group 28 with 26261 training samples and 194 testing samples\n",
      "Tested on group 29 with 26261 training samples and 69 testing samples\n",
      "Tested on group 30 with 26261 training samples and 5014 testing samples\n",
      "Tested on group 31 with 26261 training samples and 5064 testing samples\n",
      "Tested on group 32 with 26261 training samples and 5046 testing samples\n",
      "Tested on group 33 with 26261 training samples and 4933 testing samples\n"
     ]
    }
   ],
   "source": [
    "# Train and test for all families\n",
    "all_families_id = Analysis(X, y, t, f, feature_names, md5, train, test).run(\n",
    "                training_family=None, testing_family=None,experiment='base', dataset='Transcend') # All families base\n",
    "all_families_dnotua_id = Analysis(X, y, t, f, feature_names, md5, train, test).run(\n",
    "                training_family=None, testing_family=None,experiment='base_additional', dataset='Transcend') # All families with dnotua"
   ]
  },
  {
   "cell_type": "code",
   "execution_count": null,
   "id": "ecf401ba-04a3-4722-8747-79c130de86a2",
   "metadata": {},
   "outputs": [],
   "source": [
    "# Select families\n",
    "training_family = ['Dowgin','Dnotua','Kuguo','Airpush','Revmob']\n",
    "testing_family = ['Dowgin','Dnotua','Kuguo','Airpush','Revmob']\n",
    "\n",
    "# Run analysis\n",
    "cbase_id = Analysis(X, y, t, f, feature_names, md5, train, test).run(\n",
    "                training_family=training_family, testing_family=testing_family,experiment='half_random', dataset='Transcend') # C base experiment\n",
    "c1_id = Analysis(X, y, t, f, feature_names, md5, train, test).run(\n",
    "                training_family=training_family, testing_family=testing_family,experiment='snoop_random', dataset='Transcend') # C 1 experiment\n",
    "c2_id = Analysis(X, y, t, f, feature_names, md5, train, test).run(\n",
    "                training_family=training_family, testing_family=testing_family,experiment='nogwsnoop_random', dataset='Transcend') # C 2 experiment"
   ]
  },
  {
   "cell_type": "code",
   "execution_count": null,
   "id": "da654433-c2eb-43a0-afdc-daa2296d8370",
   "metadata": {},
   "outputs": [],
   "source": [
    "# Loops for solo training\n",
    "loop_id = []\n",
    "for train_fam in training_family:\n",
    "    if train_fam == 'Dnotua':\n",
    "        experiment_t = 'base_additional'\n",
    "    else:\n",
    "        experiment_t = 'base'\n",
    "    id = Analysis(X, y, t, f, feature_names, md5, train, test).run(\n",
    "                training_family=[train_fam], testing_family=testing_family,experiment=experiment_t, dataset='Transcend') # Solo family experiments\n",
    "    loop_id.append(id)"
   ]
  },
  {
   "cell_type": "code",
   "execution_count": null,
   "id": "e7b04a45-62d9-4bd1-a988-9cf6db271009",
   "metadata": {},
   "outputs": [],
   "source": [
    "# Write IDs in file for future reference\n",
    "with open(\"results/results_files_id\",'w') as f:\n",
    "    f.writelines(f\"all_families_id: {all_families_id}\")\n",
    "    f.writelines(f\"all_families_dnotua_id: {all_families_dnotua_id}\")\n",
    "    f.writelines(f\"cbase_id: {cbase_id}\")\n",
    "    f.writelines(f\"c1_id: {c1_id}\")\n",
    "    f.writelines(f\"c2_id: {c2_id}\")\n",
    "    f.writelines(f\"dowgin_solo_id: {loop_id[0]}\")\n",
    "    f.writelines(f\"dnotua_solo_id: {loop_id[1]}\")\n",
    "    f.writelines(f\"kuguo_solo_id: {loop_id[2]}\")\n",
    "    f.writelines(f\"airpush_solo_id: {loop_id[3]}\")\n",
    "    f.writelines(f\"revmob_solo_id: {loop_id[4]}\")"
   ]
  },
  {
   "cell_type": "code",
   "execution_count": null,
   "id": "f1e3fab2-1b94-4ac8-8099-a35744beb8fe",
   "metadata": {},
   "outputs": [],
   "source": [
    "# Load in files\n",
    "all_families = visual.ResultsLoader().load_file_from_id(all_families_id)\n",
    "all_families_dnotua = visual.ResultsLoader().load_file_from_id(all_families_dnotua_id)\n",
    "cbase = visual.ResultsLoader().load_file_from_id(cbase_id)\n",
    "c1 = visual.ResultsLoader().load_file_from_id(c1_id)\n",
    "c2 = visual.ResultsLoader().load_file_from_id(c2_id)\n",
    "dowgin_solo = visual.ResultsLoader().load_file_from_id(loop_id[0])\n",
    "dnotua_solo = visual.ResultsLoader().load_file_from_id(loop_id[1])\n",
    "kuguo_solo = visual.ResultsLoader().load_file_from_id(loop_id[2])\n",
    "airpush_solo = visual.ResultsLoader().load_file_from_id(loop_id[3])\n",
    "revmob_solo = visual.ResultsLoader().load_file_from_id(loop_id[4])"
   ]
  },
  {
   "cell_type": "code",
   "execution_count": null,
   "id": "5e72fa29-b1ec-42d1-8b99-9d6d309bcaf6",
   "metadata": {},
   "outputs": [],
   "source": [
    "# Plot files and save in output folder\n",
    "visual.Viz(all_families).plot_single('performance', fname='transcend_all.pdf') # Fig 2a\n",
    "visual.Viz(all_families).plot_single('distribution', fname='transcend_distribution_all.pdf') # Fig 2b\n",
    "visual.Viz(c2, c1, label1='(C1)', label2='(C2)').plot_performance_distribution(fname='goodware_snoop_performance.pdf') # Fig 3\n",
    "visual.VizExpl(cbase,c1).mean_of_weights_of_top_feature_of_missed_family_samples(['DNOTUA'], missed=True) # Table 1\n",
    "visual.VizExpl(cbase,c1).mean_of_weights_of_top_feature_of_missed_family_samples(['AIRPUSH'], missed=True) # Table 3\n",
    "visual.Viz(c2, c1, label1='(C2)', label2='(C1)').plot_single('difference', month_selection=[23, 31, 47], fname='goodware_snoop_diff_crop.pdf') # Figure 4a\n",
    "visual.Viz(cbase, c1, label1='(Cbase)', label2='(C1)').plot_single('difference', month_selection=[25, 31, 52], fname='malware_snoop_diff_crop.pdf') # Figure 4b\n",
    "visual.Viz(cbase, c1, label1='(Cbase)', label2='(C1)').plot_performance_distribution(fname='malware_snoop_performance.pdf') # Figure 5\n",
    "visual.Viz(all_families_dnotua).plot_single('performance', fname='transcend_all_dnotua.pdf') # Figure 6\n",
    "visual.FamilyIso(dowgin_solo,dnotua_solo,kuguo_solo,airpush_solo,revmob_solo).plot_family_iso_matrix(fname='solo_performance_grid.pdf')# Figure 7 & Table 4\n",
    "visual.DimensionReduction().tsne_visual(['DOWGIN','DNOTUA','KUGUO','AIRPUSH','REVMOB'], fname='tsne_malware_overtime.pdf')\n",
    "visual.VizExpl(c1).top_features_of_given_family([1,52,31,25,47,33,27,36,22,17,53,44,37],['DNOTUA']) # Table 5\n",
    "visual.VizExpl(c1).top_features_of_given_family([1,52,31,25,47,33,27,36,22,17,53,44,37],['KUGUO']) # Table 6"
   ]
  },
  {
   "cell_type": "code",
   "execution_count": null,
   "id": "38174bdc-7e97-4807-8244-372b803794be",
   "metadata": {},
   "outputs": [],
   "source": []
  }
 ],
 "metadata": {
  "kernelspec": {
   "display_name": "Python (myenv)",
   "language": "python",
   "name": "myenv"
  },
  "language_info": {
   "codemirror_mode": {
    "name": "ipython",
    "version": 3
   },
   "file_extension": ".py",
   "mimetype": "text/x-python",
   "name": "python",
   "nbconvert_exporter": "python",
   "pygments_lexer": "ipython3",
   "version": "3.10.9"
  }
 },
 "nbformat": 4,
 "nbformat_minor": 5
}
